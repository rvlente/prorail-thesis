{
 "cells": [
  {
   "cell_type": "code",
   "execution_count": null,
   "metadata": {},
   "outputs": [],
   "source": [
    "import geopandas as gpd\n",
    "import struct\n",
    "import contextily as cx\n",
    "from pathlib import Path\n",
    "from itertools import islice\n",
    "from pyproj import CRS"
   ]
  },
  {
   "cell_type": "code",
   "execution_count": null,
   "metadata": {},
   "outputs": [],
   "source": [
    "DATA_FOLDER = Path('../data')"
   ]
  },
  {
   "cell_type": "code",
   "execution_count": null,
   "metadata": {},
   "outputs": [],
   "source": [
    "def plot_points(bin_file, color, limit=250000):\n",
    "    DSIZE = struct.calcsize(\"d\")\n",
    "\n",
    "    def _yield_doubles():\n",
    "        with open(bin_file, 'rb') as f:\n",
    "            while chunk := f.read(DSIZE):\n",
    "                yield struct.unpack(\"d\", chunk)[0]\n",
    "\n",
    "    coords = list(islice(_yield_doubles(), limit))\n",
    "    lats = coords[::2]\n",
    "    lons = coords[1::2]\n",
    "\n",
    "    gdf = gpd.GeoDataFrame(geometry=gpd.points_from_xy(lons, lats, crs=4326))\n",
    "    \n",
    "    ax = gdf.plot(marker='.', color=color, markersize=0.01, figsize=(6, 6))\n",
    "\n",
    "    provider = cx.providers.Stadia.AlidadeSmooth\n",
    "    provider[\"url\"] = provider[\"url\"] + \"?api_key=37ed8692-5b86-4858-bc00-d439e91491e1\"\n",
    "    cx.add_basemap(ax, crs=gdf.crs.to_string(), source=provider)"
   ]
  },
  {
   "cell_type": "code",
   "execution_count": null,
   "metadata": {},
   "outputs": [],
   "source": [
    "# Default colors for matplotlib subplots. Choose to match other plots.\n",
    "COLORS = ['#1f77b4', '#ff7f0e', '#2ca02c', '#d62728', '#9467bd', '#8c564b', '#e377c2', '#7f7f7f', '#bcbd22', '#17becf']"
   ]
  },
  {
   "cell_type": "markdown",
   "metadata": {},
   "source": [
    "# 1. Taxi datasets"
   ]
  },
  {
   "cell_type": "code",
   "execution_count": null,
   "metadata": {},
   "outputs": [],
   "source": [
    "plot_points(DATA_FOLDER / 'taxi' / 'nyc-taxi' / 'nyc-taxi-0_25m.bin', COLORS[0])"
   ]
  },
  {
   "cell_type": "code",
   "execution_count": null,
   "metadata": {},
   "outputs": [],
   "source": [
    "# plot_points(DATA_FOLDER / 'taxi' / 'syracuse-taxi' / 'syracuse-taxi-0_25m.bin', COLORS[1])"
   ]
  },
  {
   "cell_type": "code",
   "execution_count": null,
   "metadata": {},
   "outputs": [],
   "source": [
    "plot_points(DATA_FOLDER / 'taxi' / 'aogaki-taxi' / 'aogaki-taxi-0_25m.bin', COLORS[2])"
   ]
  },
  {
   "cell_type": "code",
   "execution_count": null,
   "metadata": {},
   "outputs": [],
   "source": [
    "plot_points(DATA_FOLDER / 'taxi' / 'germany-taxi' / 'germany-taxi-0_25m.bin', COLORS[3])"
   ]
  },
  {
   "cell_type": "code",
   "execution_count": null,
   "metadata": {},
   "outputs": [],
   "source": [
    "plot_points(DATA_FOLDER / 'taxi' / 'japan-taxi' / 'japan-taxi-0_25m.bin', COLORS[4])"
   ]
  },
  {
   "cell_type": "markdown",
   "metadata": {},
   "source": [
    "# 2. Synthetic datasets"
   ]
  },
  {
   "cell_type": "code",
   "execution_count": null,
   "metadata": {},
   "outputs": [],
   "source": [
    "plot_points(DATA_FOLDER / 'synthetic' / 'nyc' / 'nyc-25m.bin', COLORS[0])"
   ]
  },
  {
   "cell_type": "code",
   "execution_count": null,
   "metadata": {},
   "outputs": [],
   "source": [
    "plot_points(DATA_FOLDER / 'synthetic' / 'tokyo' / 'tokyo-25m.bin', COLORS[1])"
   ]
  },
  {
   "cell_type": "code",
   "execution_count": null,
   "metadata": {},
   "outputs": [],
   "source": [
    "plot_points(DATA_FOLDER / 'synthetic' / 'tokyo' / 'tokyo-nyc-25m.bin', COLORS[1])"
   ]
  },
  {
   "cell_type": "code",
   "execution_count": null,
   "metadata": {},
   "outputs": [],
   "source": [
    "plot_points(DATA_FOLDER / 'synthetic' / 'delhi' / 'delhi-25m.bin', COLORS[2])"
   ]
  },
  {
   "cell_type": "code",
   "execution_count": null,
   "metadata": {},
   "outputs": [],
   "source": [
    "plot_points(DATA_FOLDER / 'synthetic' / 'saopaolo' / 'saopaolo-25m.bin', COLORS[3])"
   ]
  }
 ],
 "metadata": {
  "kernelspec": {
   "display_name": ".venv",
   "language": "python",
   "name": "python3"
  },
  "language_info": {
   "codemirror_mode": {
    "name": "ipython",
    "version": 3
   },
   "file_extension": ".py",
   "mimetype": "text/x-python",
   "name": "python",
   "nbconvert_exporter": "python",
   "pygments_lexer": "ipython3",
   "version": "3.10.12"
  }
 },
 "nbformat": 4,
 "nbformat_minor": 2
}
