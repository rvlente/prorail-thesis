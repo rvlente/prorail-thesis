{
 "cells": [
  {
   "cell_type": "code",
   "execution_count": null,
   "metadata": {},
   "outputs": [],
   "source": [
    "import geopandas as gpd\n",
    "import struct\n",
    "import contextily as cx\n",
    "from pathlib import Path"
   ]
  },
  {
   "cell_type": "code",
   "execution_count": null,
   "metadata": {},
   "outputs": [],
   "source": [
    "DATA_FOLDER = Path('../data')"
   ]
  },
  {
   "cell_type": "code",
   "execution_count": null,
   "metadata": {},
   "outputs": [],
   "source": [
    "def plot_points(bin_file):\n",
    "    DSIZE = struct.calcsize(\"d\")\n",
    "\n",
    "    def _yield_doubles():\n",
    "        with open(bin_file, 'rb') as f:\n",
    "            while chunk := f.read(DSIZE):\n",
    "                yield struct.unpack(\"d\", chunk)[0]\n",
    "\n",
    "    coords = list(_yield_doubles())\n",
    "    lats = coords[::2]\n",
    "    lons = coords[1::2]\n",
    "\n",
    "    gdf = gpd.GeoDataFrame(geometry=gpd.points_from_xy(lons, lats, crs=4326))\n",
    "    \n",
    "    ax = gdf.plot(marker='*', color='blue', markersize=0.001)\n",
    "    cx.add_basemap(ax, crs=gdf.crs.to_string(), source=cx.providers.CartoDB.Voyager)"
   ]
  },
  {
   "cell_type": "code",
   "execution_count": null,
   "metadata": {},
   "outputs": [],
   "source": [
    "plot_points(DATA_FOLDER / 'nyc-taxi' / 'nyc-taxi-0_25m.bin')"
   ]
  },
  {
   "cell_type": "code",
   "execution_count": null,
   "metadata": {},
   "outputs": [],
   "source": [
    "plot_points(DATA_FOLDER / 'syracuse-taxi' / 'syracuse-taxi-0_25m.bin')"
   ]
  },
  {
   "cell_type": "code",
   "execution_count": null,
   "metadata": {},
   "outputs": [],
   "source": [
    "plot_points(DATA_FOLDER / 'aogaki-taxi' / 'aogaki-taxi-0_25m.bin')"
   ]
  },
  {
   "cell_type": "code",
   "execution_count": null,
   "metadata": {},
   "outputs": [],
   "source": [
    "plot_points(DATA_FOLDER / 'germany-taxi' / 'germany-taxi-0_25m.bin')"
   ]
  },
  {
   "cell_type": "code",
   "execution_count": null,
   "metadata": {},
   "outputs": [],
   "source": [
    "plot_points(DATA_FOLDER / 'japan-taxi' / 'japan-taxi-0_25m.bin')"
   ]
  }
 ],
 "metadata": {
  "kernelspec": {
   "display_name": ".venv",
   "language": "python",
   "name": "python3"
  },
  "language_info": {
   "codemirror_mode": {
    "name": "ipython",
    "version": 3
   },
   "file_extension": ".py",
   "mimetype": "text/x-python",
   "name": "python",
   "nbconvert_exporter": "python",
   "pygments_lexer": "ipython3",
   "version": "3.10.12"
  }
 },
 "nbformat": 4,
 "nbformat_minor": 2
}
