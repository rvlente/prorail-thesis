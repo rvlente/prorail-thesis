{
 "cells": [
  {
   "cell_type": "code",
   "execution_count": null,
   "metadata": {},
   "outputs": [],
   "source": [
    "import pandas as pd\n",
    "import matplotlib.pyplot as plt"
   ]
  },
  {
   "cell_type": "markdown",
   "metadata": {},
   "source": [
    "# 1. Point-point experiments"
   ]
  },
  {
   "cell_type": "code",
   "execution_count": null,
   "metadata": {},
   "outputs": [],
   "source": [
    "def plot(ax, results, labels, metric):\n",
    "    X = [30_000_000, 100_000_000, 330_000_000]\n",
    "\n",
    "    ax.plot(X, results[metric]['strtree'], marker='s', label='strtree')\n",
    "    ax.plot(X, results[metric]['quadtree'], marker='^', label='quadtree')\n",
    "    ax.plot(X, results[metric]['s2pointindex'], marker='v', label='s2pointindex')\n",
    "\n",
    "    ax.set_title(labels[metric]['title'])\n",
    "    ax.set_xticks(X, ['3.0e7', '1.0e8', '3.34e8'])\n",
    "    ax.set_xlabel('#Points')\n",
    "    ax.set_ylabel(labels[metric]['ylabel'])\n",
    "    ax.legend()"
   ]
  },
  {
   "cell_type": "code",
   "execution_count": null,
   "metadata": {},
   "outputs": [],
   "source": [
    "labels_exp01 = {\n",
    "    'index_size': {\n",
    "        'title': 'Index Size',\n",
    "        'ylabel': 'Memory (GB)',\n",
    "    },\n",
    "    'build_time': {\n",
    "        'title': 'Build Time',\n",
    "        'ylabel': 'Build time (s)'\n",
    "    },\n",
    "    'dquery_throughput': {\n",
    "        'title': 'Distance query throughput',\n",
    "        'ylabel': 'Throughput (10^3 queries/s)'\n",
    "    },\n",
    "    'rquery_throughput': {\n",
    "        'title': 'Range query throughput',\n",
    "        'ylabel': 'Throughput (10^3 queries/s)'\n",
    "    }\n",
    "}\n",
    "\n",
    "results_exp01 = {\n",
    "    'index_size': {\n",
    "        'strtree': [1.48, 5.14, 17.92],\n",
    "        'quadtree': [3.18, 8.24, 23.22],\n",
    "        's2pointindex': [1.60, 5.32, 17.72],\n",
    "    },\n",
    "    'build_time': {\n",
    "        'strtree': [349, 1039, 4196],\n",
    "        'quadtree': [558, 1440, 4310],\n",
    "        's2pointindex': [427, 1924, 5046],\n",
    "    },\n",
    "    'dquery_throughput': {\n",
    "        'strtree': [19.61, 7.69, 1.81],\n",
    "        'quadtree': [13.70, 3.72, 0.98],\n",
    "        's2pointindex': [1.09, 0.46, 0.16],\n",
    "    },\n",
    "    'rquery_throughput': {\n",
    "        'strtree': [43.48, 15.63, 2.639],\n",
    "        'quadtree': [18.87, 5.10, 1.67],\n",
    "        's2pointindex': [1.24, 0.55, 0.20],\n",
    "    }\n",
    "}"
   ]
  },
  {
   "cell_type": "code",
   "execution_count": null,
   "metadata": {},
   "outputs": [],
   "source": [
    "fig, axs = plt.subplots(2, 2, figsize=(12, 12))\n",
    "\n",
    "for ax, metric in zip(axs.flat, ['index_size', 'build_time', 'dquery_throughput', 'rquery_throughput']):\n",
    "    plot(ax, results_exp01, labels_exp01, metric)"
   ]
  }
 ],
 "metadata": {
  "kernelspec": {
   "display_name": ".venv",
   "language": "python",
   "name": "python3"
  },
  "language_info": {
   "codemirror_mode": {
    "name": "ipython",
    "version": 3
   },
   "file_extension": ".py",
   "mimetype": "text/x-python",
   "name": "python",
   "nbconvert_exporter": "python",
   "pygments_lexer": "ipython3",
   "version": "3.8.10"
  }
 },
 "nbformat": 4,
 "nbformat_minor": 2
}
