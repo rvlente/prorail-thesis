{
 "cells": [
  {
   "cell_type": "code",
   "execution_count": null,
   "metadata": {},
   "outputs": [],
   "source": [
    "import numpy as np\n",
    "import shapely\n",
    "import geopandas as gpd\n",
    "import contextily as cx\n",
    "\n",
    "from shapely import Point, LineString, Polygon\n",
    "\n",
    "import matplotlib.pyplot as plt"
   ]
  },
  {
   "cell_type": "markdown",
   "metadata": {},
   "source": [
    "# 1. Generating target geometry"
   ]
  },
  {
   "cell_type": "code",
   "execution_count": null,
   "metadata": {},
   "outputs": [],
   "source": [
    "# Parameters\n",
    "AREA = 500_000_000_000 # m^2\n",
    "NUM_LANES = 4\n",
    "D_HUBS = 50_000 # m\n",
    "D_LANES = 5 # m\n",
    "\n",
    "CENTER = shapely.Point(0, 0)\n",
    "RADIUS = np.sqrt(AREA / np.pi)\n",
    "BOUNDS = CENTER.buffer(RADIUS)"
   ]
  },
  {
   "cell_type": "code",
   "execution_count": null,
   "metadata": {},
   "outputs": [],
   "source": [
    "seq = [D_HUBS, *[D_LANES] * (NUM_LANES - 1)]\n",
    "seq = [0] + seq * int(np.floor(2 * RADIUS / np.sum(seq)))\n",
    "seq = np.cumsum(seq)\n",
    "seq = seq - np.max(seq) / 2"
   ]
  },
  {
   "cell_type": "code",
   "execution_count": null,
   "metadata": {},
   "outputs": [],
   "source": [
    "def consecutive_pairs(s):\n",
    "    it = iter(s)\n",
    "    next(it)\n",
    "    return list(zip(s, it))"
   ]
  },
  {
   "cell_type": "code",
   "execution_count": null,
   "metadata": {},
   "outputs": [],
   "source": [
    "points = [Point(x, y) for x in seq for y in seq]"
   ]
  },
  {
   "cell_type": "code",
   "execution_count": null,
   "metadata": {},
   "outputs": [],
   "source": [
    "lines = []\n",
    "\n",
    "for a, b in consecutive_pairs([-2 * RADIUS, *seq, 2 * RADIUS]):\n",
    "    lines.extend(LineString(((x, a), (x, b))) for x in seq)\n",
    "    lines.extend(LineString(((a, y), (b, y))) for y in seq)"
   ]
  },
  {
   "cell_type": "code",
   "execution_count": null,
   "metadata": {},
   "outputs": [],
   "source": [
    "polygons = []\n",
    "\n",
    "for a, b in consecutive_pairs([-2 * RADIUS, *seq, 2 * RADIUS]):\n",
    "    for c, d in consecutive_pairs([-2 * RADIUS, *seq, 2 * RADIUS]):\n",
    "        polygons.append(Polygon(((a, c), (a, d), (b, d), (b, c))))"
   ]
  },
  {
   "cell_type": "code",
   "execution_count": null,
   "metadata": {},
   "outputs": [],
   "source": [
    "def create_gdf(geometry, rotation=45):\n",
    "    \"\"\"\n",
    "    Create a GeoDataFrame from a list of shapely geometries.\n",
    "    \"\"\"\n",
    "    return gpd.GeoDataFrame(geometry=geometry, crs='epsg:3857') \\\n",
    "        .intersection(BOUNDS) \\\n",
    "        .to_crs('epsg:4326')"
   ]
  },
  {
   "cell_type": "code",
   "execution_count": null,
   "metadata": {},
   "outputs": [],
   "source": [
    "gdf_points   = create_gdf(points)\n",
    "gdf_lines    = create_gdf(lines)\n",
    "gdf_polygons = create_gdf(polygons)"
   ]
  },
  {
   "cell_type": "code",
   "execution_count": null,
   "metadata": {},
   "outputs": [],
   "source": [
    "fig, axs = plt.subplots(ncols=3, figsize=(10, 10))\n",
    "gdf_points.plot(ax=axs[0])\n",
    "gdf_lines.plot(ax=axs[1])\n",
    "gdf_polygons.plot(ax=axs[2])\n",
    "\n",
    "for ax in axs:\n",
    "    ax.set_xticks([])\n",
    "    ax.set_yticks([])"
   ]
  },
  {
   "cell_type": "code",
   "execution_count": null,
   "metadata": {},
   "outputs": [],
   "source": [
    "import os\n",
    "os.makedirs('shape/points', exist_ok=True)\n",
    "os.makedirs('shape/lines', exist_ok=True)\n",
    "os.makedirs('shape/polygons', exist_ok=True)\n",
    "gdf_points.to_file('shape/points/points.shp')\n",
    "gdf_points.to_file('shape/lines/lines.shp')\n",
    "gdf_points.to_file('shape/polygons/polygons.shp')"
   ]
  },
  {
   "cell_type": "markdown",
   "metadata": {},
   "source": [
    "# 2. Generating points"
   ]
  },
  {
   "cell_type": "code",
   "execution_count": null,
   "metadata": {},
   "outputs": [],
   "source": []
  }
 ],
 "metadata": {
  "kernelspec": {
   "display_name": ".venv",
   "language": "python",
   "name": "python3"
  },
  "language_info": {
   "codemirror_mode": {
    "name": "ipython",
    "version": 3
   },
   "file_extension": ".py",
   "mimetype": "text/x-python",
   "name": "python",
   "nbconvert_exporter": "python",
   "pygments_lexer": "ipython3",
   "version": "3.10.12"
  }
 },
 "nbformat": 4,
 "nbformat_minor": 2
}
