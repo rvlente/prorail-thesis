{
 "cells": [
  {
   "cell_type": "code",
   "execution_count": null,
   "metadata": {},
   "outputs": [],
   "source": [
    "import numpy as np\n",
    "import shapely\n",
    "import geopandas as gpd\n",
    "import contextily as cx\n",
    "import uuid\n",
    "import time\n",
    "\n",
    "import matplotlib.pyplot as plt\n",
    "from shapely import Point, LineString, Polygon"
   ]
  },
  {
   "cell_type": "markdown",
   "metadata": {},
   "source": [
    "# 1. Generating target geometry"
   ]
  },
  {
   "cell_type": "code",
   "execution_count": null,
   "metadata": {},
   "outputs": [],
   "source": [
    "# Parameters\n",
    "AREA = 500_000_000_000 # m^2\n",
    "NUM_LANES = 8\n",
    "D_HUBS = 10_000 # m\n",
    "D_LANES = 10 # m\n",
    "\n",
    "CENTER = shapely.Point(0, 0)\n",
    "RADIUS = np.sqrt(AREA / np.pi)\n",
    "BOUNDS = CENTER.buffer(RADIUS)"
   ]
  },
  {
   "cell_type": "code",
   "execution_count": null,
   "metadata": {},
   "outputs": [],
   "source": [
    "seq = [D_HUBS, *[D_LANES] * (NUM_LANES - 1)]\n",
    "seq = [0] + seq * int(np.floor(2 * RADIUS / np.sum(seq)))\n",
    "seq = np.cumsum(seq)\n",
    "seq = seq - np.max(seq) / 2"
   ]
  },
  {
   "cell_type": "code",
   "execution_count": null,
   "metadata": {},
   "outputs": [],
   "source": [
    "def consecutive_pairs(s):\n",
    "    it = iter(s)\n",
    "    next(it)\n",
    "    return list(zip(s, it))"
   ]
  },
  {
   "cell_type": "code",
   "execution_count": null,
   "metadata": {},
   "outputs": [],
   "source": [
    "points = [Point(x, y) for x in seq for y in seq]"
   ]
  },
  {
   "cell_type": "code",
   "execution_count": null,
   "metadata": {},
   "outputs": [],
   "source": [
    "lines = []\n",
    "\n",
    "for a, b in consecutive_pairs([-2 * RADIUS, *seq, 2 * RADIUS]):\n",
    "    lines.extend(LineString(((x, a), (x, b))) for x in seq)\n",
    "    lines.extend(LineString(((a, y), (b, y))) for y in seq)"
   ]
  },
  {
   "cell_type": "code",
   "execution_count": null,
   "metadata": {},
   "outputs": [],
   "source": [
    "polygons = []\n",
    "\n",
    "for a, b in consecutive_pairs([-2 * RADIUS, *seq, 2 * RADIUS]):\n",
    "    for c, d in consecutive_pairs([-2 * RADIUS, *seq, 2 * RADIUS]):\n",
    "        polygons.append(Polygon(((a, c), (a, d), (b, d), (b, c))))"
   ]
  },
  {
   "cell_type": "code",
   "execution_count": null,
   "metadata": {},
   "outputs": [],
   "source": [
    "def create_gdf(geometry, rotation=45):\n",
    "    \"\"\"\n",
    "    Create a GeoDataFrame from a list of shapely geometries.\n",
    "    \"\"\"\n",
    "\n",
    "    gdf = gpd.GeoDataFrame(geometry=geometry, crs='epsg:3857')\n",
    "    gdf.geometry = gdf.geometry.intersection(BOUNDS)\n",
    "    gdf = gdf[~gdf.geometry.is_empty]\n",
    "    gdf.geometry = gdf.geometry.rotate(rotation, origin=CENTER)\n",
    "    gdf['uuid'] = gdf.apply(lambda _: str(uuid.uuid4()), axis=1)\n",
    "    gdf.reset_index(drop=True, inplace=True)\n",
    "\n",
    "    return gdf"
   ]
  },
  {
   "cell_type": "code",
   "execution_count": null,
   "metadata": {},
   "outputs": [],
   "source": [
    "gdf_points   = create_gdf(points)\n",
    "gdf_lines    = create_gdf(lines)\n",
    "gdf_polygons = create_gdf(polygons)"
   ]
  },
  {
   "cell_type": "code",
   "execution_count": null,
   "metadata": {},
   "outputs": [],
   "source": [
    "# fig, axs = plt.subplots(ncols=3, figsize=(10, 10))\n",
    "# gdf_points  .to_crs('epsg:4326').translate(9.902056, 49.843).plot(ax=axs[0], alpha=0.5)\n",
    "# gdf_lines   .to_crs('epsg:4326').translate(9.902056, 49.843).plot(ax=axs[1], alpha=0.5)\n",
    "# gdf_polygons.to_crs('epsg:4326').translate(9.902056, 49.843).plot(ax=axs[2], alpha=0.5, color=['red' if i % 2 == 0 else 'blue' for i in gdf_polygons.index])\n",
    "\n",
    "# for ax in axs:\n",
    "#     ax.set_xticks([])\n",
    "#     ax.set_yticks([])\n",
    "#     cx.add_basemap(ax, crs='epsg:4326', source=cx.providers.OpenStreetMap.Mapnik)"
   ]
  },
  {
   "cell_type": "markdown",
   "metadata": {},
   "source": [
    "# 2. Generating benchmark points"
   ]
  },
  {
   "cell_type": "code",
   "execution_count": null,
   "metadata": {},
   "outputs": [],
   "source": [
    "GPS_ACCURACY = 1 # m\n",
    "gdf_benchmark = gpd.GeoDataFrame(geometry=gdf_points.geometry.buffer(GPS_ACCURACY))"
   ]
  },
  {
   "cell_type": "code",
   "execution_count": null,
   "metadata": {},
   "outputs": [],
   "source": [
    "def generate_points(points):\n",
    "    offsets = np.random.normal((0, 0), (GPS_ACCURACY, GPS_ACCURACY), size=(len(points), 2))\n",
    "    return [Point(x, y) for x, y in np.array(points) + offsets]"
   ]
  },
  {
   "cell_type": "code",
   "execution_count": null,
   "metadata": {},
   "outputs": [],
   "source": [
    "def create_benchmark(src, geometry_func=None, explode_func=None):\n",
    "    assert isinstance(src, gpd.GeoDataFrame)\n",
    "    assert 'geometry' in src.columns and 'uuid' in src.columns\n",
    "    assert explode_func is not None\n",
    "\n",
    "    gdf = src.copy()\n",
    "\n",
    "    if geometry_func is not None:\n",
    "        gdf.geometry = geometry_func(gdf.geometry)\n",
    "        gdf = gdf[~gdf.geometry.is_empty]\n",
    "    \n",
    "    gdf['expl'] = gdf.geometry.apply(explode_func)\n",
    "    gdf = gdf.explode('expl')\n",
    "\n",
    "    gdf.expl = generate_points([(p.x, p.y) for p in gdf.expl])\n",
    "\n",
    "    gdf.drop(columns=['geometry'], inplace=True)\n",
    "    gdf.rename(columns={'expl': 'geometry', 'uuid': 'target_uuid'}, inplace=True)\n",
    "    gdf.reset_index(drop=True, inplace=True)\n",
    "    gdf.set_geometry('geometry', crs='epsg:3857', inplace=True)\n",
    "\n",
    "    return gdf"
   ]
  },
  {
   "cell_type": "code",
   "execution_count": null,
   "metadata": {},
   "outputs": [],
   "source": [
    "gdf_point_point = create_benchmark(\n",
    "    gdf_points,\n",
    "    explode_func=lambda p: [p]\n",
    ")\n",
    "\n",
    "len(gdf_point_point)"
   ]
  },
  {
   "cell_type": "code",
   "execution_count": null,
   "metadata": {},
   "outputs": [],
   "source": [
    "gdf_point_line = create_benchmark(\n",
    "    gdf_lines,\n",
    "    geometry_func=lambda g: g.segmentize(D_HUBS / (5 * GPS_ACCURACY)),\n",
    "    explode_func=lambda l: [\n",
    "        Point(\n",
    "            np.mean([l.coords[0][0], l.coords[1][0]]),\n",
    "            np.mean([l.coords[0][1], l.coords[1][1]]),\n",
    "        )\n",
    "    ],\n",
    ")\n",
    "\n",
    "len(gdf_point_line)"
   ]
  },
  {
   "cell_type": "code",
   "execution_count": null,
   "metadata": {},
   "outputs": [],
   "source": [
    "gdf_point_polygon = create_benchmark(\n",
    "    gdf_polygons,\n",
    "    geometry_func=lambda g: g.segmentize(D_HUBS / (5 * GPS_ACCURACY)).buffer(-D_LANES / 4),\n",
    "    explode_func=lambda p: [Point(c) for c in p.exterior.coords],\n",
    ")\n",
    "\n",
    "len(gdf_point_polygon)"
   ]
  },
  {
   "cell_type": "markdown",
   "metadata": {},
   "source": [
    "# 3. Example joins"
   ]
  },
  {
   "cell_type": "code",
   "execution_count": null,
   "metadata": {},
   "outputs": [],
   "source": [
    "def evaluate_join(gdf_target, gdf):\n",
    "    assert 'target_uuid' in gdf_target.columns and 'uuid' in gdf.columns\n",
    "\n",
    "    st = time.time()\n",
    "    result = gdf.sjoin_nearest(gdf_target, how='left', distance_col='distance')\n",
    "    et = time.time()\n",
    "\n",
    "    print(f'Time: {et - st:.2f} sec')\n",
    "\n",
    "    correct = (result.uuid == result.target_uuid)\n",
    "    print(f'Accuracy: {correct.sum() / len(correct)}')"
   ]
  },
  {
   "cell_type": "code",
   "execution_count": null,
   "metadata": {},
   "outputs": [],
   "source": [
    "evaluate_join(gdf_point_point, gdf_points)"
   ]
  },
  {
   "cell_type": "code",
   "execution_count": null,
   "metadata": {},
   "outputs": [],
   "source": [
    "evaluate_join(gdf_point_line, gdf_lines)"
   ]
  },
  {
   "cell_type": "code",
   "execution_count": null,
   "metadata": {},
   "outputs": [],
   "source": [
    "evaluate_join(gdf_point_polygon, gdf_polygons)"
   ]
  },
  {
   "cell_type": "markdown",
   "metadata": {},
   "source": [
    "# 4. Export"
   ]
  },
  {
   "cell_type": "code",
   "execution_count": null,
   "metadata": {},
   "outputs": [],
   "source": [
    "import os\n",
    "os.makedirs('shape/points', exist_ok=True)\n",
    "os.makedirs('shape/lines', exist_ok=True)\n",
    "os.makedirs('shape/polygons', exist_ok=True)\n",
    "gdf_points  .to_crs('epsg:4326').to_file('shape/points/points.shp')\n",
    "gdf_lines   .to_crs('epsg:4326').to_file('shape/lines/lines.shp')\n",
    "gdf_polygons.to_crs('epsg:4326').to_file('shape/polygons/polygons.shp')"
   ]
  }
 ],
 "metadata": {
  "kernelspec": {
   "display_name": ".venv",
   "language": "python",
   "name": "python3"
  },
  "language_info": {
   "codemirror_mode": {
    "name": "ipython",
    "version": 3
   },
   "file_extension": ".py",
   "mimetype": "text/x-python",
   "name": "python",
   "nbconvert_exporter": "python",
   "pygments_lexer": "ipython3",
   "version": "3.10.12"
  }
 },
 "nbformat": 4,
 "nbformat_minor": 2
}
