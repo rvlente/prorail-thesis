{
 "cells": [
  {
   "cell_type": "code",
   "execution_count": null,
   "metadata": {},
   "outputs": [],
   "source": [
    "from pathlib import Path\n",
    "import geopandas as gpd\n",
    "import matplotlib.pyplot as plt\n",
    "import pandas as pd\n",
    "from shapely.geometry import LineString\n",
    "import numpy as np\n",
    "# import contextily as cx"
   ]
  },
  {
   "cell_type": "code",
   "execution_count": null,
   "metadata": {},
   "outputs": [],
   "source": [
    "DATA_FOLDER = Path(\"data/prorail\")"
   ]
  },
  {
   "cell_type": "code",
   "execution_count": null,
   "metadata": {},
   "outputs": [],
   "source": [
    "CRS = 'EPSG:28992'"
   ]
  },
  {
   "cell_type": "markdown",
   "metadata": {},
   "source": [
    "# 1. Train GPS points (MTPS)"
   ]
  },
  {
   "cell_type": "code",
   "execution_count": null,
   "metadata": {},
   "outputs": [],
   "source": [
    "df_mtps = pd.read_parquet(DATA_FOLDER / 'mtps_2023_10_02_12.parquet')"
   ]
  },
  {
   "cell_type": "code",
   "execution_count": null,
   "metadata": {},
   "outputs": [],
   "source": [
    "def to_point_gpd(df):\n",
    "    return gpd.GeoDataFrame(\n",
    "        df[[\"longitude\", \"latitude\"]],\n",
    "        geometry=gpd.points_from_xy(df.longitude, df.latitude),\n",
    "        crs=CRS,\n",
    "    )"
   ]
  },
  {
   "cell_type": "code",
   "execution_count": null,
   "metadata": {},
   "outputs": [],
   "source": [
    "df_points = to_point_gpd(df_mtps)\n",
    "df_points.head()"
   ]
  },
  {
   "cell_type": "markdown",
   "metadata": {},
   "source": [
    "# 2. Rail branches"
   ]
  },
  {
   "cell_type": "code",
   "execution_count": null,
   "metadata": {},
   "outputs": [],
   "source": [
    "df_spoortak = gpd.read_parquet(DATA_FOLDER / \"spoortakken.parquet\").to_crs(CRS).drop_duplicates()"
   ]
  },
  {
   "cell_type": "code",
   "execution_count": null,
   "metadata": {},
   "outputs": [],
   "source": [
    "def plot_spoortakken(df):\n",
    "    fig, ax = plt.subplots(figsize=(10, 10))\n",
    "    df.plot(ax=ax, color=\"black\", linewidth=0.5, )\n",
    "    cx.add_basemap(ax, crs=df_spoortak.crs.to_string(), source=cx.providers.OpenStreetMap.Mapnik)\n",
    "    return fig, ax"
   ]
  },
  {
   "cell_type": "code",
   "execution_count": null,
   "metadata": {},
   "outputs": [],
   "source": [
    "# _ = plot_spoortakken(df_spoortak)"
   ]
  },
  {
   "cell_type": "markdown",
   "metadata": {},
   "source": [
    "# 3. GeoPandas join performance"
   ]
  },
  {
   "cell_type": "code",
   "execution_count": null,
   "metadata": {},
   "outputs": [],
   "source": [
    "# Further split up the tracks in 100m sections.\n",
    "def segmentize(line, d=100):\n",
    "    return LineString(\n",
    "        [line.interpolate(l) for l in np.arange(0, line.length, d)]\n",
    "        + [line.boundary.geoms[1]]\n",
    "    )\n",
    "\n",
    "def segments(curve):\n",
    "    return list(map(LineString, zip(curve.coords[:-1], curve.coords[1:])))\n",
    "\n",
    "df_spoortak['segments'] = df_spoortak.geometry.apply(lambda x: segments(segmentize(x)))"
   ]
  },
  {
   "cell_type": "code",
   "execution_count": null,
   "metadata": {},
   "outputs": [],
   "source": [
    "# Create DataFrame for track segments. \n",
    "df_segments = df_spoortak.explode('segments')\n",
    "\n",
    "# Add incrementing index.\n",
    "df_segments['segment_id'] = df_segments.groupby('geometry').cumcount().astype(str).values\n",
    "\n",
    "# Set segment as row geometry and select relevant rows.\n",
    "df_segments.drop(columns=['geometry'], inplace=True)\n",
    "df_segments.rename(columns={'segments': 'geometry', 'NAAM': 'branch_name'}, inplace=True)\n",
    "df_segments.set_geometry('geometry', drop=True, inplace=True, crs=CRS)\n",
    "df_segments = df_segments[['branch_name', 'geometry', 'segment_id']]\n",
    "\n",
    "df_segments.head()"
   ]
  },
  {
   "cell_type": "code",
   "execution_count": null,
   "metadata": {},
   "outputs": [],
   "source": [
    "# Perform single join.\n",
    "df_joined = df_points.sjoin_nearest(df_segments, how=\"left\", max_distance=4, distance_col=\"distance\")"
   ]
  },
  {
   "cell_type": "code",
   "execution_count": null,
   "metadata": {},
   "outputs": [],
   "source": [
    "import time\n",
    "\n",
    "results = []\n",
    "\n",
    "for i in [1, 6, 12, 24, 48, 72]:\n",
    "    df_points = to_point_gpd(pd.concat([df_mtps] * i, ignore_index=True))\n",
    "\n",
    "    st = time.time()\n",
    "    x = df_points.sjoin_nearest(df_segments, how=\"left\", max_distance=4, distance_col=\"distance\")    \n",
    "    et = time.time()\n",
    "    del x\n",
    "\n",
    "    results.append((len(df_points), et - st))\n"
   ]
  },
  {
   "cell_type": "code",
   "execution_count": null,
   "metadata": {},
   "outputs": [],
   "source": [
    "results"
   ]
  },
  {
   "cell_type": "markdown",
   "metadata": {},
   "source": [
    "# 4. (old) NCBGs"
   ]
  },
  {
   "cell_type": "code",
   "execution_count": null,
   "metadata": {},
   "outputs": [],
   "source": [
    "# # Load NCBG polygons.\n",
    "# df_ncbg = get_omgevingsvergunning_areas(DATA_FOLDER / 'regions')\n",
    "# df_ncbg.head()"
   ]
  },
  {
   "cell_type": "code",
   "execution_count": null,
   "metadata": {},
   "outputs": [],
   "source": [
    "# # Plot four NCBGs.\n",
    "# REGIONS = [\"Utrecht Centraal Station\", \"Nijmegen\", \"Amsterdam CS\", \"Eindhoven\"]\n",
    "# TITLES = [\"Utrecht Centraal\", \"Nijmegen\", \"Amsterdam Centraal\", \"Eindhoven Centraal\"]\n",
    "# fig, axs = plt.subplots(2, 2, figsize=(10, 10))\n",
    "\n",
    "# for r, title, ax in zip(REGIONS, TITLES, axs.flat):\n",
    "#     # Plot region polygon.\n",
    "#     region = df_ncbg.where(df_ncbg.EMPLACEMEN == r)\n",
    "#     region.plot(ax=ax, color=\"red\", edgecolor=\"black\", alpha=0.5, linewidth=1)\n",
    "\n",
    "#     # Set title and remove labels.\n",
    "#     ax.set_title(title)\n",
    "#     ax.set_xticks([])\n",
    "#     ax.set_yticks([])\n",
    "\n",
    "#     # Determine bounds for square images.\n",
    "#     x1, y1, x2, y2 = region.total_bounds\n",
    "#     dx = x2 - x1\n",
    "#     dy = y2 - y1\n",
    "#     r = dx / dy\n",
    "\n",
    "#     if r > 1:\n",
    "#         y1 = y1 - (dy * (r - 1) / 2)\n",
    "#         y2 = y2 + (dy * (r - 1) / 2)\n",
    "#     else:\n",
    "#         x1 = x1 - (dx * (1 / r - 1) / 2)\n",
    "#         x2 = x2 + (dx * (1 / r - 1) / 2)\n",
    "\n",
    "#     # Zoom out slightly.\n",
    "#     dx = x2 - x1\n",
    "#     dy = y2 - y1\n",
    "#     zoom = 0.1\n",
    "\n",
    "#     x1 = x1 - zoom * dx / 2\n",
    "#     x2 = x2 + zoom * dx / 2\n",
    "#     y1 = y1 - zoom * dy / 2\n",
    "#     y2 = y2 + zoom * dy / 2\n",
    "\n",
    "#     ax.set_xlim(x1, x2)\n",
    "#     ax.set_ylim(y1, y2)\n",
    "\n",
    "#     cx.add_basemap(\n",
    "#         ax, crs=region.crs.to_string(), source=cx.providers.OpenStreetMap.Mapnik\n",
    "#     )\n",
    "\n",
    "\n",
    "# fig.tight_layout()"
   ]
  }
 ],
 "metadata": {
  "kernelspec": {
   "display_name": ".venv",
   "language": "python",
   "name": "python3"
  },
  "language_info": {
   "codemirror_mode": {
    "name": "ipython",
    "version": 3
   },
   "file_extension": ".py",
   "mimetype": "text/x-python",
   "name": "python",
   "nbconvert_exporter": "python",
   "pygments_lexer": "ipython3",
   "version": "3.9.16"
  }
 },
 "nbformat": 4,
 "nbformat_minor": 2
}
