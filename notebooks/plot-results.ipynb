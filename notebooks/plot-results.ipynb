{
    "cells": [
        {
            "cell_type": "code",
            "execution_count": null,
            "metadata": {},
            "outputs": [],
            "source": [
                "import matplotlib.pyplot as plt\n",
                "from pathlib import Path\n",
                "from collections import defaultdict\n",
                "import numpy as np\n",
                "import re\n",
                "from datetime import timedelta"
            ]
        },
        {
            "cell_type": "code",
            "execution_count": null,
            "metadata": {},
            "outputs": [],
            "source": [
                "def to_seconds(s):\n",
                "    hh, mm, ss = re.match(r'(\\d{2}):(\\d{2}):(\\d{2})', s).groups()\n",
                "    return timedelta(hours=int(hh), minutes=int(mm), seconds=int(ss)).seconds\n",
                "\n",
                "def to_gb(mb):\n",
                "    return round(float(mb) / 1000, 2)\n",
                "\n",
                "def to_rate(i):\n",
                "    return round(float(i), 2)"
            ]
        },
        {
            "cell_type": "code",
            "execution_count": null,
            "metadata": {},
            "outputs": [],
            "source": [
                "def read_results_file(file):\n",
                "    with open(file) as f:\n",
                "        data = {k.strip(): v.strip() for k, v in (l.split('|') for l in f)}\n",
                "    \n",
                "    data['index_size'] = to_gb(data['index_size'].split(' ', 1)[0])\n",
                "    data['build_time'] = to_seconds(data['build_time'].split(' ', 1)[0])\n",
                "    data['dquery_throughput'] = [to_rate(x) for x in data['dquery_throughput'].split(']', 1)[0].strip('[').split(', ')]\n",
                "    data['rquery_throughput'] = [to_rate(x) for x in data['rquery_throughput'].split(']', 1)[0].strip('[').split(', ')]\n",
                "    return data"
            ]
        },
        {
            "cell_type": "code",
            "execution_count": null,
            "metadata": {},
            "outputs": [],
            "source": [
                "RESULTS_FOLDER = Path('../results')"
            ]
        },
        {
            "cell_type": "code",
            "execution_count": null,
            "metadata": {},
            "outputs": [],
            "source": [
                "LABELS = {\n",
                "    'index_size': {\n",
                "        'title': 'Index Size',\n",
                "        'ylabel': 'Memory (GB)',\n",
                "        'xlabel': '#Points',\n",
                "        'x': [250_000, 2_500_000, 25_000_000, 250_000_000],\n",
                "        'xticks': ['0.25m', '2.5m', '25m', '250m'],\n",
                "    },\n",
                "    'build_time': {\n",
                "        'title': 'Build Time',\n",
                "        'ylabel': 'Build time (s)',\n",
                "        'xlabel': '#Points',\n",
                "        'x': [250_000, 2_500_000, 25_000_000, 250_000_000],\n",
                "        'xticks': ['0.25m', '2.5m', '25m', '250m']\n",
                "    },\n",
                "    'dquery_throughput_a': {\n",
                "        'title': 'Distance query throughput',\n",
                "        'ylabel': 'Throughput (queries/s)',\n",
                "        'xlabel': '#Points',\n",
                "        'x': [250_000, 2_500_000, 25_000_000, 250_000_000],\n",
                "        'xticks': ['0.25m', '2.5m', '25m', '250m']\n",
                "    },\n",
                "    'dquery_throughput_b': {\n",
                "        'title': 'Distance query throughput',\n",
                "        'ylabel': 'Throughput (queries/s)',\n",
                "        'xlabel': 'Selectivity',\n",
                "        'x': [0.0001, 0.001, 0.01, 0.1, 1.0],\n",
                "        'xticks': ['0.0001', '0.001', '0.01', '0.1', '1.0']\n",
                "    },\n",
                "    'rquery_throughput_a': {\n",
                "        'title': 'Range query throughput',\n",
                "        'ylabel': 'Throughput (queries/s)',\n",
                "        'xlabel': '#Points',\n",
                "        'x': [250_000, 2_500_000, 25_000_000, 250_000_000],\n",
                "        'xticks': ['0.25m', '2.5m', '25m', '250m']\n",
                "    },\n",
                "    'rquery_throughput_b': {\n",
                "        'title': 'Range query throughput',\n",
                "        'ylabel': 'Throughput (queries/s)',\n",
                "        'xlabel': 'Selectivity',\n",
                "        'x': [0.0001, 0.001, 0.01, 0.1, 1.0],\n",
                "        'xticks': ['0.0001', '0.001', '0.01', '0.1', '1.0']\n",
                "    },\n",
                "}"
            ]
        },
        {
            "cell_type": "code",
            "execution_count": null,
            "metadata": {},
            "outputs": [],
            "source": [
                "# Default colors for matplotlib subplots. Choose to match other plots.\n",
                "COLORS = ['#1f77b4', '#ff7f0e', '#2ca02c', '#d62728', '#9467bd', '#8c564b', '#e377c2', '#7f7f7f', '#bcbd22', '#17becf']"
            ]
        },
        {
            "cell_type": "markdown",
            "metadata": {},
            "source": [
                "# 1. Taxi experiments"
            ]
        },
        {
            "cell_type": "code",
            "execution_count": null,
            "metadata": {},
            "outputs": [],
            "source": [
                "def _parse_results_file(file):\n",
                "    with open(file) as f:\n",
                "        data = {k.strip(): v.strip() for k, v in (l.split('|') for l in f)}\n",
                "    \n",
                "    data['index_size'] = to_gb(data['index_size'].split(' ', 1)[0])\n",
                "    data['build_time'] = to_seconds(data['build_time'].split(' ', 1)[0])\n",
                "    data['dquery_throughput'] = [to_rate(x) for x in data['dquery_throughput'].split(']', 1)[0].strip('[').split(', ')]\n",
                "    data['rquery_throughput'] = [to_rate(x) for x in data['rquery_throughput'].split(']', 1)[0].strip('[').split(', ')]\n",
                "    return data\n",
                "\n",
                "def parse_results(idx, name, n_points):\n",
                "    dicts = [_parse_results_file(f) for f in RESULTS_FOLDER.glob(f'run*/*__{idx}_{name}-{n_points}.txt')]\n",
                "\n",
                "    return {\n",
                "        'index_size': np.mean([d['index_size'] for d in dicts]),\n",
                "        'build_time': np.mean([d['build_time'] for d in dicts]),\n",
                "        'dquery_throughput': np.mean([d['dquery_throughput'] for d in dicts], axis=0),\n",
                "        'rquery_throughput': np.mean([d['rquery_throughput'] for d in dicts], axis=0),\n",
                "    }   "
            ]
        },
        {
            "cell_type": "code",
            "execution_count": null,
            "metadata": {},
            "outputs": [],
            "source": [
                "def get_experiment_results(name, idxs=['geos_strtree', 'geos_quadtree', 's2_pointindex'], idx_sizes=['0_25m', '2_5m', '25m', '250m']):\n",
                "    results = defaultdict(lambda: defaultdict(list))\n",
                "\n",
                "    for idx in idxs:\n",
                "        for size in idx_sizes:\n",
                "            data = parse_results(idx, name, size)\n",
                "            results['index_size'][idx].append(data['index_size'])\n",
                "            results['build_time'][idx].append(data['build_time'])\n",
                "\n",
                "            if size != '250m':\n",
                "                results['dquery_throughput_a'][idx].extend(data['dquery_throughput'])\n",
                "                results['rquery_throughput_a'][idx].extend(data['rquery_throughput'])\n",
                "            else:\n",
                "                results['dquery_throughput_a'][idx].append(data['dquery_throughput'][-2])\n",
                "                results['rquery_throughput_a'][idx].append(data['rquery_throughput'][-2])\n",
                "                results['dquery_throughput_b'][idx].extend(data['dquery_throughput'])\n",
                "                results['rquery_throughput_b'][idx].extend(data['rquery_throughput'])\n",
                "    \n",
                "    return results"
            ]
        },
        {
            "cell_type": "markdown",
            "metadata": {},
            "source": [
                "## 1.1 nyc-taxi baseline"
            ]
        },
        {
            "cell_type": "code",
            "execution_count": null,
            "metadata": {},
            "outputs": [],
            "source": [
                "def plot_taxi(ax, results, metric):\n",
                "    X = LABELS[metric]['x']\n",
                "\n",
                "    ax.plot(X, results[metric]['geos_strtree'], marker='s', label='strtree')\n",
                "    ax.plot(X, results[metric]['geos_quadtree'], marker='^', label='quadtree')\n",
                "    ax.plot(X, results[metric]['s2_pointindex'], marker='v', label='s2pointindex')\n",
                "\n",
                "    ax.set_title(LABELS[metric]['title'])\n",
                "    ax.set_xticks(X, LABELS[metric]['xticks'])\n",
                "    ax.set_xscale('log')\n",
                "    ax.set_yscale('log')\n",
                "    ax.set_xlabel(LABELS[metric]['xlabel'])\n",
                "    ax.set_ylabel(LABELS[metric]['ylabel'])\n",
                "    # ax.legend()"
            ]
        },
        {
            "cell_type": "code",
            "execution_count": null,
            "metadata": {},
            "outputs": [],
            "source": [
                "results_nyctaxi = get_experiment_results('nyc-taxi')\n",
                "\n",
                "fig, axs = plt.subplots(3, 2, figsize=(8, 12))\n",
                "\n",
                "for ax, metric in zip(axs.flat, ['index_size', 'build_time', 'dquery_throughput_a', 'dquery_throughput_b', 'rquery_throughput_a', 'rquery_throughput_b']):\n",
                "    plot_taxi(ax, results_nyctaxi, metric)\n",
                "\n",
                "handles, labels = ax.get_legend_handles_labels()\n",
                "fig.legend(handles, labels, loc='upper right')\n",
                "fig.tight_layout()"
            ]
        },
        {
            "cell_type": "markdown",
            "metadata": {},
            "source": [
                "## 1.2 Baseline comparisons"
            ]
        },
        {
            "cell_type": "code",
            "execution_count": null,
            "metadata": {},
            "outputs": [],
            "source": [
                "def plot_taxi_exps(ax, results, metric, idx):\n",
                "    X = LABELS[metric]['x']\n",
                "\n",
                "    for exp, marker in zip(results.keys(), ['s', '1', '2', '3', '4']):\n",
                "        ax.plot(X, results[exp][metric][idx], marker=marker, label=exp, linewidth=1)\n",
                "\n",
                "    ax.set_title(f\"{LABELS[metric]['title']} - {idx}\")\n",
                "    ax.set_xticks(X, LABELS[metric]['xticks'])\n",
                "    ax.set_xscale('log')\n",
                "    ax.set_yscale('log')\n",
                "    ax.set_xlabel(LABELS[metric]['xlabel'])\n",
                "    ax.set_ylabel(LABELS[metric]['ylabel'])\n",
                "    # ax.legend()"
            ]
        },
        {
            "cell_type": "code",
            "execution_count": null,
            "metadata": {},
            "outputs": [],
            "source": [
                "exp_results = {\n",
                "    exp: get_experiment_results(exp)\n",
                "    for exp in ['nyc-taxi', 'syracuse-taxi', 'aogaki-taxi', 'germany-taxi', 'japan-taxi']\n",
                "}\n",
                "\n",
                "fig, axs = plt.subplots(6, 3, figsize=(12, 24))\n",
                "\n",
                "for row, metric in zip(axs, ['index_size', 'build_time', 'dquery_throughput_a', 'dquery_throughput_b', 'rquery_throughput_a', 'rquery_throughput_b']):\n",
                "    for ax, idx in zip(row, ['geos_strtree', 'geos_quadtree', 's2_pointindex']):\n",
                "        plot_taxi_exps(ax, exp_results, metric, idx)\n",
                "        \n",
                "handles, labels = ax.get_legend_handles_labels()\n",
                "fig.legend(handles, labels, loc='upper center', ncol=5, bbox_to_anchor=(0.5, 1.015))\n",
                "fig.tight_layout()"
            ]
        },
        {
            "cell_type": "markdown",
            "metadata": {},
            "source": [
                "# 2. Synthetic datasets"
            ]
        },
        {
            "cell_type": "code",
            "execution_count": null,
            "metadata": {},
            "outputs": [],
            "source": [
                "def plot_synthetic(ax, results, metric, idx):\n",
                "    X = list(results.keys())\n",
                "    ax.bar(X, [results[exp][metric][idx][0] for exp in X], label=X, color=COLORS, width=0.3, edgecolor='black')\n",
                "    ax.set_title(f\"{LABELS[metric]['title']} - {idx}\")\n",
                "    ax.set_xticks([])\n",
                "    ax.set_ylabel(LABELS[metric]['ylabel'])\n",
                "    ax.grid(True, linewidth=0.5, linestyle='--')"
            ]
        },
        {
            "cell_type": "code",
            "execution_count": null,
            "metadata": {},
            "outputs": [],
            "source": [
                "exp_results = {\n",
                "    exp: get_experiment_results(exp, idx_sizes=['25m'])\n",
                "    for exp in ['nyc-taxi', 'synthetic-nyc', 'synthetic-tokyo', 'synthetic-tokyo-nyc', 'synthetic-delhi', 'synthetic-delhi-nyc', 'synthetic-saopaolo', 'synthetic-saopaolo-nyc']\n",
                "}\n",
                "\n",
                "fig, axs = plt.subplots(4, 3, figsize=(12, 12))\n",
                "\n",
                "for row, metric in zip(axs, ['index_size', 'build_time', 'dquery_throughput_a', 'rquery_throughput_a']):\n",
                "    for ax, idx in zip(row, ['geos_strtree', 'geos_quadtree', 's2_pointindex']):\n",
                "        plot_synthetic(ax, exp_results, metric, idx)\n",
                "\n",
                "handles, labels = ax.get_legend_handles_labels()\n",
                "fig.legend(handles, labels, loc='upper center', ncol=4, bbox_to_anchor=(0.5, 1.05))\n",
                "fig.tight_layout()"
            ]
        }
    ],
    "metadata": {
        "kernelspec": {
            "display_name": ".venv",
            "language": "python",
            "name": "python3"
        },
        "language_info": {
            "codemirror_mode": {
                "name": "ipython",
                "version": 3
            },
            "file_extension": ".py",
            "mimetype": "text/x-python",
            "name": "python",
            "nbconvert_exporter": "python",
            "pygments_lexer": "ipython3",
            "version": "3.10.12"
        }
    },
    "nbformat": 4,
    "nbformat_minor": 2
}
