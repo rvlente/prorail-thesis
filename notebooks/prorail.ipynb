{
 "cells": [
  {
   "cell_type": "code",
   "execution_count": null,
   "metadata": {},
   "outputs": [],
   "source": [
    "from pathlib import Path\n",
    "import matplotlib.pyplot as plt\n",
    "import contextily as cx"
   ]
  },
  {
   "cell_type": "code",
   "execution_count": null,
   "metadata": {},
   "outputs": [],
   "source": [
    "from utils import get_omgevingsvergunning_areas\n",
    "\n",
    "DATA_FOLDER = Path(\"data/prorail\")\n",
    "\n",
    "# Load region polygons.\n",
    "df_regions = get_omgevingsvergunning_areas(DATA_FOLDER / 'regions')\n",
    "df_regions.head()"
   ]
  },
  {
   "cell_type": "code",
   "execution_count": null,
   "metadata": {},
   "outputs": [],
   "source": [
    "# Plot four regions.\n",
    "REGIONS = [\"Utrecht Centraal Station\", \"Nijmegen\", \"Amsterdam CS\", \"Eindhoven\"]\n",
    "TITLES = [\"Utrecht Centraal\", \"Nijmegen\", \"Amsterdam Centraal\", \"Eindhoven Centraal\"]\n",
    "fig, axs = plt.subplots(2, 2, figsize=(12, 12))\n",
    "\n",
    "for r, title, ax in zip(REGIONS, TITLES, axs.flat):\n",
    "    # Plot region polygon.\n",
    "    region = df_regions.where(df_regions.EMPLACEMEN == r)\n",
    "    region.plot(ax=ax, color=\"None\", edgecolor=\"black\", linewidth=1.5)\n",
    "\n",
    "    # Set title and remove labels.\n",
    "    ax.set_title(title)\n",
    "    ax.set_xticks([])\n",
    "    ax.set_yticks([])\n",
    "\n",
    "    # Determine bounds for square images.\n",
    "    x1, y1, x2, y2 = region.total_bounds\n",
    "    dx = x2 - x1\n",
    "    dy = y2 - y1\n",
    "    r = dx / dy\n",
    "\n",
    "    if r > 1:\n",
    "        y1 = y1 - (dy * (r - 1) / 2)\n",
    "        y2 = y2 + (dy * (r - 1) / 2)\n",
    "    else:\n",
    "        x1 = x1 - (dx * (1 / r - 1) / 2)\n",
    "        x2 = x2 + (dx * (1 / r - 1) / 2)\n",
    "\n",
    "    # Zoom out slightly.\n",
    "    dx = x2 - x1\n",
    "    dy = y2 - y1\n",
    "    zoom = 0.1\n",
    "\n",
    "    ax.set_xlim(x1 - zoom * dx / 2, x2 + zoom * dx / 2)\n",
    "    ax.set_ylim(y1 - zoom * dy / 2, y2 + zoom * dy / 2)\n",
    "\n",
    "    # Add background map.\n",
    "    cx.add_basemap(ax, crs=\"EPSG:4326\")\n",
    "\n",
    "fig.tight_layout()"
   ]
  }
 ],
 "metadata": {
  "kernelspec": {
   "display_name": ".venv",
   "language": "python",
   "name": "python3"
  },
  "language_info": {
   "codemirror_mode": {
    "name": "ipython",
    "version": 3
   },
   "file_extension": ".py",
   "mimetype": "text/x-python",
   "name": "python",
   "nbconvert_exporter": "python",
   "pygments_lexer": "ipython3",
   "version": "3.10.12"
  }
 },
 "nbformat": 4,
 "nbformat_minor": 2
}
